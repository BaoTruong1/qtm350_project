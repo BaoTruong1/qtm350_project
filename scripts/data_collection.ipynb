{
 "cells": [
  {
   "cell_type": "markdown",
   "metadata": {},
   "source": [
    "### Importing libraries"
   ]
  },
  {
   "cell_type": "code",
   "execution_count": 15,
   "metadata": {},
   "outputs": [],
   "source": [
    "import pandas as pd\n",
    "import wbdata"
   ]
  },
  {
   "cell_type": "markdown",
   "metadata": {},
   "source": [
    "### Data for GDP per Capita"
   ]
  },
  {
   "cell_type": "code",
   "execution_count": 16,
   "metadata": {},
   "outputs": [],
   "source": [
    "indicators_gdp = {\"NY.GDP.PCAP.KD\":\"gdp_per_capita\"}\n",
    "df_gdp = wbdata.get_dataframe(indicators_gdp, country = [\"USA\",\"CAN\",\"MEX\"])"
   ]
  },
  {
   "cell_type": "code",
   "execution_count": 17,
   "metadata": {},
   "outputs": [],
   "source": [
    "df2_gdp = df_gdp.copy()\n",
    "df2_gdp.reset_index(inplace = True)\n",
    "df2_gdp['text'] = df2_gdp['country'] + df2_gdp['date'].map(str)"
   ]
  },
  {
   "cell_type": "code",
   "execution_count": 18,
   "metadata": {},
   "outputs": [],
   "source": [
    "data_gdp = df2_gdp.drop(columns = ['text'])\n",
    "data_gdp.to_csv('../data/gdp_per_capita.csv')"
   ]
  },
  {
   "cell_type": "markdown",
   "metadata": {},
   "source": [
    "### Data for Employment to Population Ratio"
   ]
  },
  {
   "cell_type": "code",
   "execution_count": 19,
   "metadata": {},
   "outputs": [],
   "source": [
    "indicators_employment = {\"SL.EMP.TOTL.SP.ZS\":\"employment\"}\n",
    "df_employment = wbdata.get_dataframe(indicators_employment, country = [\"USA\",\"CAN\",\"MEX\"])"
   ]
  },
  {
   "cell_type": "code",
   "execution_count": 20,
   "metadata": {},
   "outputs": [],
   "source": [
    "df2_employment = df_employment.copy()\n",
    "df2_employment.reset_index(inplace=True)\n",
    "df2_employment['text'] = df2_employment['country'] + df2_employment['date'].map(str)"
   ]
  },
  {
   "cell_type": "code",
   "execution_count": 21,
   "metadata": {},
   "outputs": [],
   "source": [
    "data_employment = df2_employment.drop(columns=['text'])\n",
    "data_employment.to_csv('../data/employment_to_population_ratio.csv')"
   ]
  },
  {
   "cell_type": "markdown",
   "metadata": {},
   "source": [
    "### Data for GDP Growth"
   ]
  },
  {
   "cell_type": "code",
   "execution_count": 22,
   "metadata": {},
   "outputs": [],
   "source": [
    "indicators_gdp_growth = {\"NY.GDP.MKTP.KD.ZG\":\"gdp_growth\"}\n",
    "df_gdp_growth = wbdata.get_dataframe(indicators_gdp_growth, country = [\"USA\",\"CAN\",\"MEX\"])"
   ]
  },
  {
   "cell_type": "code",
   "execution_count": 23,
   "metadata": {},
   "outputs": [],
   "source": [
    "df2_gdp_growth = df_gdp_growth.copy()\n",
    "df2_gdp_growth.reset_index(inplace=True)\n",
    "df2_gdp_growth['text'] = df2_gdp_growth['country'] + df2_gdp_growth['date'].map(str)"
   ]
  },
  {
   "cell_type": "code",
   "execution_count": 24,
   "metadata": {},
   "outputs": [],
   "source": [
    "data_gdp_growth = df2_gdp_growth.drop(columns=['text'])\n",
    "data_gdp_growth.to_csv('../data/gdp_growth.csv')"
   ]
  },
  {
   "cell_type": "markdown",
   "metadata": {},
   "source": [
    "### Data for PPP"
   ]
  },
  {
   "cell_type": "code",
   "execution_count": 25,
   "metadata": {},
   "outputs": [],
   "source": [
    "indicators_ppp = {\"NY.GDP.PCAP.PP.KD\":\"ppp\"}\n",
    "df_ppp = wbdata.get_dataframe(indicators_ppp, country = [\"USA\",\"CAN\",\"MEX\"])"
   ]
  },
  {
   "cell_type": "code",
   "execution_count": 26,
   "metadata": {},
   "outputs": [],
   "source": [
    "df2_ppp = df_ppp.copy()\n",
    "df2_ppp.reset_index(inplace = True)\n",
    "df2_ppp['text'] = df2_ppp['country'] + df2_ppp['date'].map(str)"
   ]
  },
  {
   "cell_type": "code",
   "execution_count": 27,
   "metadata": {},
   "outputs": [],
   "source": [
    "data_ppp = df2_ppp.drop(columns = ['text'])\n",
    "data_ppp.to_csv('../data/ppp.csv')"
   ]
  }
 ],
 "metadata": {
  "kernelspec": {
   "display_name": "Python 3",
   "language": "python",
   "name": "python3"
  },
  "language_info": {
   "codemirror_mode": {
    "name": "ipython",
    "version": 3
   },
   "file_extension": ".py",
   "mimetype": "text/x-python",
   "name": "python",
   "nbconvert_exporter": "python",
   "pygments_lexer": "ipython3",
   "version": "3.12.0"
  }
 },
 "nbformat": 4,
 "nbformat_minor": 2
}
